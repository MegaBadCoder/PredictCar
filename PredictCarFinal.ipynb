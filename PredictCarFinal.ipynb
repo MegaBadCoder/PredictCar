{
 "cells": [
  {
   "attachments": {},
   "cell_type": "markdown",
   "metadata": {},
   "source": [
    "## Импорт библиотек и данных"
   ]
  },
  {
   "cell_type": "code",
   "execution_count": 277,
   "metadata": {},
   "outputs": [
    {
     "name": "stdout",
     "output_type": "stream",
     "text": [
      "Requirement already satisfied: vininfo[cli] in c:\\users\\seliv\\anaconda3\\lib\\site-packages (1.7.0)\n",
      "Requirement already satisfied: click in c:\\users\\seliv\\anaconda3\\lib\\site-packages (from vininfo[cli]) (8.0.4)\n",
      "Requirement already satisfied: colorama in c:\\users\\seliv\\anaconda3\\lib\\site-packages (from click->vininfo[cli]) (0.4.5)\n",
      "Note: you may need to restart the kernel to use updated packages.\n"
     ]
    }
   ],
   "source": [
    "pip install vininfo[cli]"
   ]
  },
  {
   "cell_type": "code",
   "execution_count": 278,
   "metadata": {},
   "outputs": [],
   "source": [
    "import pandas as pd\n",
    "import matplotlib.pyplot as plt\n",
    "from vininfo import Vin\n",
    "import numpy as np\n",
    "import re\n",
    "import scipy.stats as stats\n",
    "from sklearn.preprocessing import LabelEncoder\n",
    "import seaborn as sns\n",
    "from sklearn.ensemble import RandomForestRegressor\n",
    "from sklearn.model_selection import cross_val_score\n",
    "from sklearn.preprocessing import StandardScaler"
   ]
  },
  {
   "cell_type": "code",
   "execution_count": 279,
   "metadata": {},
   "outputs": [],
   "source": [
    "train_df = pd.read_csv('./train.csv')\n",
    "test_x = pd.read_csv('./test.csv')\n",
    "test_y = pd.read_csv('./sample_submission.csv')"
   ]
  },
  {
   "cell_type": "code",
   "execution_count": 280,
   "metadata": {},
   "outputs": [
    {
     "name": "stdout",
     "output_type": "stream",
     "text": [
      "<class 'pandas.core.frame.DataFrame'>\n",
      "RangeIndex: 440236 entries, 0 to 440235\n",
      "Data columns (total 15 columns):\n",
      " #   Column        Non-Null Count   Dtype  \n",
      "---  ------        --------------   -----  \n",
      " 0   year          440236 non-null  int64  \n",
      " 1   make          432193 non-null  object \n",
      " 2   model         432113 non-null  object \n",
      " 3   trim          431899 non-null  object \n",
      " 4   body          429843 non-null  object \n",
      " 5   transmission  388775 non-null  object \n",
      " 6   vin           440236 non-null  object \n",
      " 7   state         440236 non-null  object \n",
      " 8   condition     430831 non-null  float64\n",
      " 9   odometer      440167 non-null  float64\n",
      " 10  color         439650 non-null  object \n",
      " 11  interior      439650 non-null  object \n",
      " 12  seller        440236 non-null  object \n",
      " 13  sellingprice  440236 non-null  int64  \n",
      " 14  saledate      440236 non-null  object \n",
      "dtypes: float64(2), int64(2), object(11)\n",
      "memory usage: 50.4+ MB\n"
     ]
    }
   ],
   "source": [
    "train_df.info()"
   ]
  },
  {
   "cell_type": "code",
   "execution_count": 281,
   "metadata": {},
   "outputs": [
    {
     "name": "stdout",
     "output_type": "stream",
     "text": [
      "<class 'pandas.core.frame.DataFrame'>\n",
      "RangeIndex: 110060 entries, 0 to 110059\n",
      "Data columns (total 14 columns):\n",
      " #   Column        Non-Null Count   Dtype  \n",
      "---  ------        --------------   -----  \n",
      " 0   year          110060 non-null  int64  \n",
      " 1   make          107999 non-null  object \n",
      " 2   model         107981 non-null  object \n",
      " 3   trim          107946 non-null  object \n",
      " 4   body          107466 non-null  object \n",
      " 5   transmission  97048 non-null   object \n",
      " 6   vin           110060 non-null  object \n",
      " 7   state         110060 non-null  object \n",
      " 8   condition     107681 non-null  float64\n",
      " 9   odometer      110041 non-null  float64\n",
      " 10  color         109902 non-null  object \n",
      " 11  interior      109902 non-null  object \n",
      " 12  seller        110060 non-null  object \n",
      " 13  saledate      110060 non-null  object \n",
      "dtypes: float64(2), int64(1), object(11)\n",
      "memory usage: 11.8+ MB\n"
     ]
    }
   ],
   "source": [
    "test_x.info()"
   ]
  },
  {
   "cell_type": "code",
   "execution_count": 282,
   "metadata": {},
   "outputs": [
    {
     "name": "stdout",
     "output_type": "stream",
     "text": [
      "<class 'pandas.core.frame.DataFrame'>\n",
      "RangeIndex: 110060 entries, 0 to 110059\n",
      "Data columns (total 2 columns):\n",
      " #   Column        Non-Null Count   Dtype  \n",
      "---  ------        --------------   -----  \n",
      " 0   vin           110060 non-null  object \n",
      " 1   sellingprice  110060 non-null  float64\n",
      "dtypes: float64(1), object(1)\n",
      "memory usage: 1.7+ MB\n"
     ]
    }
   ],
   "source": [
    "test_y.info()"
   ]
  },
  {
   "attachments": {},
   "cell_type": "markdown",
   "metadata": {},
   "source": [
    "## Посмотрим данные"
   ]
  },
  {
   "cell_type": "code",
   "execution_count": 283,
   "metadata": {},
   "outputs": [
    {
     "data": {
      "text/html": [
       "<div>\n",
       "<style scoped>\n",
       "    .dataframe tbody tr th:only-of-type {\n",
       "        vertical-align: middle;\n",
       "    }\n",
       "\n",
       "    .dataframe tbody tr th {\n",
       "        vertical-align: top;\n",
       "    }\n",
       "\n",
       "    .dataframe thead th {\n",
       "        text-align: right;\n",
       "    }\n",
       "</style>\n",
       "<table border=\"1\" class=\"dataframe\">\n",
       "  <thead>\n",
       "    <tr style=\"text-align: right;\">\n",
       "      <th></th>\n",
       "      <th>year</th>\n",
       "      <th>make</th>\n",
       "      <th>model</th>\n",
       "      <th>trim</th>\n",
       "      <th>body</th>\n",
       "      <th>transmission</th>\n",
       "      <th>vin</th>\n",
       "      <th>state</th>\n",
       "      <th>condition</th>\n",
       "      <th>odometer</th>\n",
       "      <th>color</th>\n",
       "      <th>interior</th>\n",
       "      <th>seller</th>\n",
       "      <th>sellingprice</th>\n",
       "      <th>saledate</th>\n",
       "    </tr>\n",
       "  </thead>\n",
       "  <tbody>\n",
       "    <tr>\n",
       "      <th>0</th>\n",
       "      <td>2011</td>\n",
       "      <td>Ford</td>\n",
       "      <td>Edge</td>\n",
       "      <td>SEL</td>\n",
       "      <td>suv</td>\n",
       "      <td>automatic</td>\n",
       "      <td>2fmdk3jc4bba41556</td>\n",
       "      <td>md</td>\n",
       "      <td>4.2</td>\n",
       "      <td>111041.0</td>\n",
       "      <td>black</td>\n",
       "      <td>black</td>\n",
       "      <td>santander consumer</td>\n",
       "      <td>12500</td>\n",
       "      <td>Tue Jun 02 2015 02:30:00 GMT-0700 (PDT)</td>\n",
       "    </tr>\n",
       "    <tr>\n",
       "      <th>1</th>\n",
       "      <td>2014</td>\n",
       "      <td>Ford</td>\n",
       "      <td>Fusion</td>\n",
       "      <td>SE</td>\n",
       "      <td>Sedan</td>\n",
       "      <td>automatic</td>\n",
       "      <td>3fa6p0h75er208976</td>\n",
       "      <td>mo</td>\n",
       "      <td>3.5</td>\n",
       "      <td>31034.0</td>\n",
       "      <td>black</td>\n",
       "      <td>black</td>\n",
       "      <td>ars/avis budget group</td>\n",
       "      <td>14500</td>\n",
       "      <td>Wed Feb 25 2015 02:00:00 GMT-0800 (PST)</td>\n",
       "    </tr>\n",
       "    <tr>\n",
       "      <th>2</th>\n",
       "      <td>2012</td>\n",
       "      <td>Nissan</td>\n",
       "      <td>Sentra</td>\n",
       "      <td>2.0 SL</td>\n",
       "      <td>sedan</td>\n",
       "      <td>automatic</td>\n",
       "      <td>3n1ab6ap4cl698412</td>\n",
       "      <td>nj</td>\n",
       "      <td>2.2</td>\n",
       "      <td>35619.0</td>\n",
       "      <td>black</td>\n",
       "      <td>black</td>\n",
       "      <td>nissan-infiniti lt</td>\n",
       "      <td>9100</td>\n",
       "      <td>Wed Jun 10 2015 02:30:00 GMT-0700 (PDT)</td>\n",
       "    </tr>\n",
       "    <tr>\n",
       "      <th>3</th>\n",
       "      <td>2003</td>\n",
       "      <td>HUMMER</td>\n",
       "      <td>H2</td>\n",
       "      <td>Base</td>\n",
       "      <td>suv</td>\n",
       "      <td>automatic</td>\n",
       "      <td>5grgn23u93h101360</td>\n",
       "      <td>tx</td>\n",
       "      <td>2.8</td>\n",
       "      <td>131301.0</td>\n",
       "      <td>gold</td>\n",
       "      <td>beige</td>\n",
       "      <td>wichita falls ford lin inc</td>\n",
       "      <td>13300</td>\n",
       "      <td>Wed Jun 17 2015 03:00:00 GMT-0700 (PDT)</td>\n",
       "    </tr>\n",
       "    <tr>\n",
       "      <th>4</th>\n",
       "      <td>2007</td>\n",
       "      <td>Ford</td>\n",
       "      <td>Fusion</td>\n",
       "      <td>SEL</td>\n",
       "      <td>Sedan</td>\n",
       "      <td>automatic</td>\n",
       "      <td>3fahp08z17r268380</td>\n",
       "      <td>md</td>\n",
       "      <td>2.0</td>\n",
       "      <td>127709.0</td>\n",
       "      <td>black</td>\n",
       "      <td>black</td>\n",
       "      <td>purple heart</td>\n",
       "      <td>1300</td>\n",
       "      <td>Tue Feb 03 2015 04:00:00 GMT-0800 (PST)</td>\n",
       "    </tr>\n",
       "  </tbody>\n",
       "</table>\n",
       "</div>"
      ],
      "text/plain": [
       "   year    make   model    trim   body transmission                vin state  \\\n",
       "0  2011    Ford    Edge     SEL    suv    automatic  2fmdk3jc4bba41556    md   \n",
       "1  2014    Ford  Fusion      SE  Sedan    automatic  3fa6p0h75er208976    mo   \n",
       "2  2012  Nissan  Sentra  2.0 SL  sedan    automatic  3n1ab6ap4cl698412    nj   \n",
       "3  2003  HUMMER      H2    Base    suv    automatic  5grgn23u93h101360    tx   \n",
       "4  2007    Ford  Fusion     SEL  Sedan    automatic  3fahp08z17r268380    md   \n",
       "\n",
       "   condition  odometer  color interior                      seller  \\\n",
       "0        4.2  111041.0  black    black          santander consumer   \n",
       "1        3.5   31034.0  black    black       ars/avis budget group   \n",
       "2        2.2   35619.0  black    black          nissan-infiniti lt   \n",
       "3        2.8  131301.0   gold    beige  wichita falls ford lin inc   \n",
       "4        2.0  127709.0  black    black                purple heart   \n",
       "\n",
       "   sellingprice                                 saledate  \n",
       "0         12500  Tue Jun 02 2015 02:30:00 GMT-0700 (PDT)  \n",
       "1         14500  Wed Feb 25 2015 02:00:00 GMT-0800 (PST)  \n",
       "2          9100  Wed Jun 10 2015 02:30:00 GMT-0700 (PDT)  \n",
       "3         13300  Wed Jun 17 2015 03:00:00 GMT-0700 (PDT)  \n",
       "4          1300  Tue Feb 03 2015 04:00:00 GMT-0800 (PST)  "
      ]
     },
     "execution_count": 283,
     "metadata": {},
     "output_type": "execute_result"
    }
   ],
   "source": [
    "train_df.head()\n",
    "\n",
    "# train_df.drop(['vin', 'seller'], inplace=True, axis=1)\n",
    "# test_x.drop(['vin', 'seller'], inplace=True, axis=1)"
   ]
  },
  {
   "cell_type": "code",
   "execution_count": 284,
   "metadata": {},
   "outputs": [],
   "source": [
    "test_x.at[14116, 'saledate'] = 'Tue Jan 13 2015 09:15:00 GMT-0800 (PST)'\n",
    "train_df['saledate'] = pd.to_datetime(train_df['saledate'], utc=True)\n",
    "test_x['saledate'] = pd.to_datetime(test_x['saledate'], utc=True)"
   ]
  },
  {
   "cell_type": "code",
   "execution_count": 285,
   "metadata": {},
   "outputs": [
    {
     "name": "stdout",
     "output_type": "stream",
     "text": [
      "['make', 'model', 'trim', 'body', 'transmission', 'vin', 'state', 'color', 'interior', 'seller']\n"
     ]
    }
   ],
   "source": [
    "object_cols = train_df.select_dtypes(include='object').columns.tolist()\n",
    "\n",
    "print(object_cols)\n",
    "\n",
    "for item in object_cols:\n",
    "    if train_df[item].dtype == 'object':\n",
    "        train_df[item] = train_df[item].str.lower()\n",
    "        test_x[item] = test_x[item].str.lower()\n"
   ]
  },
  {
   "cell_type": "code",
   "execution_count": 286,
   "metadata": {},
   "outputs": [],
   "source": [
    "def fill_make(row):\n",
    "    make = row['make']\n",
    "    vin = row['vin']\n",
    "    if pd.isna(make):\n",
    "        vin = Vin(vin)\n",
    "        return vin.manufacturer\n",
    "    else:\n",
    "        return make\n",
    "\n",
    "train_df['make'] = train_df.apply(fill_make, axis=1)\n",
    "test_x['make'] = test_x.apply(fill_make, axis=1)\n"
   ]
  },
  {
   "cell_type": "code",
   "execution_count": null,
   "metadata": {},
   "outputs": [],
   "source": [
    "# display(train_df.groupby('model').head())\n",
    "grouped_data = train_df.copy()\n",
    "grouped_data = grouped_data.fillna('unknown')\n",
    "grouped_data = grouped_data.groupby('make')\n",
    "\n",
    "res_model_group = pd.DataFrame(columns=['trim', 'body', 'transmission', 'model'])\n",
    "\n",
    "for name, group in grouped_data:\n",
    "    body = group['body'].value_counts().idxmax()\n",
    "    trim = group['trim'].value_counts().idxmax()\n",
    "    transmission = group['transmission'].value_counts().idxmax()\n",
    "    model = group['model'].value_counts().idxmax()\n",
    "\n",
    "\n",
    "    result_row = pd.DataFrame({\n",
    "        'make': [name],\n",
    "        'body': [body],\n",
    "        'trim': [trim],\n",
    "        'transmission': [transmission],\n",
    "        'model': [model]\n",
    "    })\n",
    "\n",
    "    res_model_group = res_model_group.append(result_row)"
   ]
  },
  {
   "cell_type": "code",
   "execution_count": 288,
   "metadata": {},
   "outputs": [
    {
     "data": {
      "text/html": [
       "<div>\n",
       "<style scoped>\n",
       "    .dataframe tbody tr th:only-of-type {\n",
       "        vertical-align: middle;\n",
       "    }\n",
       "\n",
       "    .dataframe tbody tr th {\n",
       "        vertical-align: top;\n",
       "    }\n",
       "\n",
       "    .dataframe thead th {\n",
       "        text-align: right;\n",
       "    }\n",
       "</style>\n",
       "<table border=\"1\" class=\"dataframe\">\n",
       "  <thead>\n",
       "    <tr style=\"text-align: right;\">\n",
       "      <th></th>\n",
       "      <th>trim</th>\n",
       "      <th>body</th>\n",
       "      <th>transmission</th>\n",
       "      <th>model</th>\n",
       "      <th>make</th>\n",
       "    </tr>\n",
       "  </thead>\n",
       "  <tbody>\n",
       "    <tr>\n",
       "      <th>0</th>\n",
       "      <td>unknown</td>\n",
       "      <td>unknown</td>\n",
       "      <td>automatic</td>\n",
       "      <td>unknown</td>\n",
       "      <td>AM</td>\n",
       "    </tr>\n",
       "    <tr>\n",
       "      <th>0</th>\n",
       "      <td>unknown</td>\n",
       "      <td>unknown</td>\n",
       "      <td>automatic</td>\n",
       "      <td>unknown</td>\n",
       "      <td>Acura</td>\n",
       "    </tr>\n",
       "    <tr>\n",
       "      <th>0</th>\n",
       "      <td>unknown</td>\n",
       "      <td>unknown</td>\n",
       "      <td>automatic</td>\n",
       "      <td>unknown</td>\n",
       "      <td>Audi</td>\n",
       "    </tr>\n",
       "    <tr>\n",
       "      <th>0</th>\n",
       "      <td>unknown</td>\n",
       "      <td>unknown</td>\n",
       "      <td>automatic</td>\n",
       "      <td>unknown</td>\n",
       "      <td>BMW</td>\n",
       "    </tr>\n",
       "    <tr>\n",
       "      <th>0</th>\n",
       "      <td>unknown</td>\n",
       "      <td>unknown</td>\n",
       "      <td>automatic</td>\n",
       "      <td>unknown</td>\n",
       "      <td>BMW M</td>\n",
       "    </tr>\n",
       "    <tr>\n",
       "      <th>...</th>\n",
       "      <td>...</td>\n",
       "      <td>...</td>\n",
       "      <td>...</td>\n",
       "      <td>...</td>\n",
       "      <td>...</td>\n",
       "    </tr>\n",
       "    <tr>\n",
       "      <th>0</th>\n",
       "      <td>base</td>\n",
       "      <td>sedan</td>\n",
       "      <td>automatic</td>\n",
       "      <td>model s</td>\n",
       "      <td>tesla</td>\n",
       "    </tr>\n",
       "    <tr>\n",
       "      <th>0</th>\n",
       "      <td>le</td>\n",
       "      <td>sedan</td>\n",
       "      <td>automatic</td>\n",
       "      <td>camry</td>\n",
       "      <td>toyota</td>\n",
       "    </tr>\n",
       "    <tr>\n",
       "      <th>0</th>\n",
       "      <td>se pzev</td>\n",
       "      <td>sedan</td>\n",
       "      <td>automatic</td>\n",
       "      <td>jetta</td>\n",
       "      <td>volkswagen</td>\n",
       "    </tr>\n",
       "    <tr>\n",
       "      <th>0</th>\n",
       "      <td>t5</td>\n",
       "      <td>sedan</td>\n",
       "      <td>automatic</td>\n",
       "      <td>s60</td>\n",
       "      <td>volvo</td>\n",
       "    </tr>\n",
       "    <tr>\n",
       "      <th>0</th>\n",
       "      <td>comfrtline</td>\n",
       "      <td>unknown</td>\n",
       "      <td>unknown</td>\n",
       "      <td>jetta</td>\n",
       "      <td>vw</td>\n",
       "    </tr>\n",
       "  </tbody>\n",
       "</table>\n",
       "<p>118 rows × 5 columns</p>\n",
       "</div>"
      ],
      "text/plain": [
       "          trim     body transmission    model        make\n",
       "0      unknown  unknown    automatic  unknown          AM\n",
       "0      unknown  unknown    automatic  unknown       Acura\n",
       "0      unknown  unknown    automatic  unknown        Audi\n",
       "0      unknown  unknown    automatic  unknown         BMW\n",
       "0      unknown  unknown    automatic  unknown       BMW M\n",
       "..         ...      ...          ...      ...         ...\n",
       "0         base    sedan    automatic  model s       tesla\n",
       "0           le    sedan    automatic    camry      toyota\n",
       "0      se pzev    sedan    automatic    jetta  volkswagen\n",
       "0           t5    sedan    automatic      s60       volvo\n",
       "0   comfrtline  unknown      unknown    jetta          vw\n",
       "\n",
       "[118 rows x 5 columns]"
      ]
     },
     "execution_count": 288,
     "metadata": {},
     "output_type": "execute_result"
    }
   ],
   "source": [
    "res_model_group"
   ]
  },
  {
   "cell_type": "code",
   "execution_count": 289,
   "metadata": {},
   "outputs": [],
   "source": [
    "def replace_missing_values(df1, df2):\n",
    "    merged_df = pd.merge(df1, df2, on='make', how='left')\n",
    "\n",
    "    merged_df['body'] = merged_df['body_x'].fillna(merged_df['body_y'])\n",
    "    merged_df['trim'] = merged_df['trim_x'].fillna(merged_df['trim_y'])\n",
    "    merged_df['model'] = merged_df['model_x'].fillna(merged_df['model_y'])\n",
    "    merged_df['transmission'] = merged_df['transmission_x'].fillna(merged_df['transmission_y'])\n",
    "    merged_df.drop(['body_x', 'body_y', 'trim_x', 'trim_y', 'transmission_x', 'transmission_y', 'model_x', 'model_y'], axis=1, inplace=True)\n",
    "\n",
    "    return merged_df"
   ]
  },
  {
   "cell_type": "code",
   "execution_count": 290,
   "metadata": {},
   "outputs": [],
   "source": [
    "train_df = replace_missing_values(train_df, res_model_group)\n",
    "test_x = replace_missing_values(test_x, res_model_group)\n"
   ]
  },
  {
   "cell_type": "code",
   "execution_count": 292,
   "metadata": {},
   "outputs": [
    {
     "name": "stdout",
     "output_type": "stream",
     "text": [
      "<class 'pandas.core.frame.DataFrame'>\n",
      "Int64Index: 440236 entries, 0 to 440235\n",
      "Data columns (total 15 columns):\n",
      " #   Column        Non-Null Count   Dtype              \n",
      "---  ------        --------------   -----              \n",
      " 0   year          440236 non-null  int64              \n",
      " 1   make          440236 non-null  object             \n",
      " 2   vin           440236 non-null  object             \n",
      " 3   state         440236 non-null  object             \n",
      " 4   condition     430831 non-null  float64            \n",
      " 5   odometer      440167 non-null  float64            \n",
      " 6   color         439650 non-null  object             \n",
      " 7   interior      439650 non-null  object             \n",
      " 8   seller        440236 non-null  object             \n",
      " 9   sellingprice  440236 non-null  int64              \n",
      " 10  saledate      440236 non-null  datetime64[ns, UTC]\n",
      " 11  body          440236 non-null  object             \n",
      " 12  trim          440236 non-null  object             \n",
      " 13  model         440236 non-null  object             \n",
      " 14  transmission  440236 non-null  object             \n",
      "dtypes: datetime64[ns, UTC](1), float64(2), int64(2), object(10)\n",
      "memory usage: 53.7+ MB\n"
     ]
    },
    {
     "data": {
      "text/plain": [
       "None"
      ]
     },
     "metadata": {},
     "output_type": "display_data"
    },
    {
     "name": "stdout",
     "output_type": "stream",
     "text": [
      "<class 'pandas.core.frame.DataFrame'>\n",
      "Int64Index: 110060 entries, 0 to 110059\n",
      "Data columns (total 14 columns):\n",
      " #   Column        Non-Null Count   Dtype              \n",
      "---  ------        --------------   -----              \n",
      " 0   year          110060 non-null  int64              \n",
      " 1   make          110060 non-null  object             \n",
      " 2   vin           110060 non-null  object             \n",
      " 3   state         110060 non-null  object             \n",
      " 4   condition     107681 non-null  float64            \n",
      " 5   odometer      110041 non-null  float64            \n",
      " 6   color         109902 non-null  object             \n",
      " 7   interior      109902 non-null  object             \n",
      " 8   seller        110060 non-null  object             \n",
      " 9   saledate      110060 non-null  datetime64[ns, UTC]\n",
      " 10  body          110056 non-null  object             \n",
      " 11  trim          110059 non-null  object             \n",
      " 12  model         110059 non-null  object             \n",
      " 13  transmission  110059 non-null  object             \n",
      "dtypes: datetime64[ns, UTC](1), float64(2), int64(1), object(10)\n",
      "memory usage: 12.6+ MB\n"
     ]
    },
    {
     "data": {
      "text/plain": [
       "None"
      ]
     },
     "metadata": {},
     "output_type": "display_data"
    }
   ],
   "source": [
    "display(train_df.info())\n",
    "display(test_x.info())"
   ]
  },
  {
   "cell_type": "code",
   "execution_count": 293,
   "metadata": {},
   "outputs": [],
   "source": [
    "column_for_fill = ['trim', 'body', 'model', 'transmission']\n",
    "test_x[column_for_fill] = test_x[column_for_fill].fillna('unknown')"
   ]
  },
  {
   "cell_type": "code",
   "execution_count": 298,
   "metadata": {},
   "outputs": [
    {
     "name": "stdout",
     "output_type": "stream",
     "text": [
      "make\n",
      "['ford' 'nissan' 'hummer' 'lincoln' 'pontiac' 'hyundai' 'Toyota' 'buick'\n",
      " 'chevrolet' 'honda' 'acura' 'cadillac' 'gmc' 'saab' 'dodge'\n",
      " 'mercedes-benz' 'toyota' 'volkswagen' 'Mazda' 'bmw' 'infiniti' 'chrysler'\n",
      " 'kia' 'Ford' 'Chevrolet USA' 'jaguar' 'subaru' 'jeep' 'lexus' 'mercedes'\n",
      " 'scion' 'Chevrolet Mexico' 'fiat' 'suzuki' 'Land Rover' 'mazda' 'volvo'\n",
      " 'audi' 'CAMI' 'mini' 'isuzu' 'GMC Truck' 'mitsubishi' 'Chrysler Canada'\n",
      " 'Jeep' 'smart' 'porsche' 'Dodge' 'land rover' 'saturn' 'Hyundai' 'ram'\n",
      " 'DaimlerChrysler AG/Daimler AG' 'oldsmobile' 'Chevrolet' 'Dodge Canada'\n",
      " 'mercury' 'Porsche car' 'bentley' 'Mitsubishi' 'Mercedes-Benz' 'Cadillac'\n",
      " 'Scion' 'Volkswagen' 'Mercury' 'BMW' 'Chrysler' 'fisker' 'Lexus' 'Honda'\n",
      " 'Audi' 'Nissan' 'Dodge Mexico' 'maserati' 'Lincoln' 'Genesis' 'Pontiac'\n",
      " 'tesla' 'landrover' 'vw' 'Daimler AG (Sprinter)' 'AM' 'Acura' 'GMC'\n",
      " 'gmc truck' 'Chevrolet Canada' 'rolls-royce' 'ferrari' 'plymouth'\n",
      " 'lamborghini' 'Maserati' 'Suzuki' 'Smart' 'Kia' 'UnsupportedBrand' 'geo'\n",
      " 'ford truck' 'Jaguar' 'Buick' 'Oldsmobile' 'aston martin' 'Plymouth'\n",
      " 'daewoo' 'Mercedes-Benz (Sprinter)' 'mercedes-b' 'Hummer' 'Saturn'\n",
      " 'dodge tk' 'Saab' 'Volkswagen Commercial Vehicles' 'Ferrari' 'mazda tk'\n",
      " 'Porsche SUV' 'Subaru' 'Fiat' 'dot' 'BMW M' 'airstream']\n",
      "model\n",
      "['edge' 'fusion' 'sentra' 'h2' 'mkz' 'g6' 'escape' 'elantra' 'freestyle'\n",
      " 'unknown' 'lucerne' 'windstar' 'silverado 1500' 'murano' 'equinox'\n",
      " 'accord' 'civic' 'mdx' 'cts' 'taurus' 'srx' 'yukon' '9-3' 'explorer'\n",
      " 'f-150' 'charger' 'armada' 'gl-class' 'avalon' 'tahoe' 'malibu' 'passat'\n",
      " 'camry' 'flex' '3 series' 'q50' 'altima' 'mustang' '300' 'sonata'\n",
      " 'envoy xl' 'rogue' 'accent' 'maxima' 'forte' 'xf' 'outback'\n",
      " 'grand caravan' 'e-class' 'cherokee' 'impala' 'optima' '5 series'\n",
      " 'expedition' 'is 250' 'mks' '200' 'veloster' 'golf' 'rav4' 'e300dt'\n",
      " 'five hundred' 'g coupe' 'grand cherokee' 'x-type' 'g convertible'\n",
      " 'tacoma' 'xa' 'g sedan' 'tl' 'liberty' 'soul' '500l' 'town and country'\n",
      " 'hhr' 'wrangler' 'reno' 'suburban' 'pt cruiser' 'gx 460' 'sienna'\n",
      " 'sl-class' 'envoy' 'patriot' 'e-series van' 'versa' 'aspen' 'm'\n",
      " 'colorado' 'beetle' 'spark' 'rx 330' 'rendezvous' 'town car' '1 series'\n",
      " 'venture' 'corolla' 'focus' 'mkx' 'mx-5 miata' 'traverse' 'pathfinder'\n",
      " 'silverado 2500hd' 'ram pickup 1500' 's60' 'a6' 'tsx sport wagon'\n",
      " 'fusion hybrid' '4runner' 'sorento' 'rx 300' 'explorer sport trac'\n",
      " 'nitro' '7 series' 'q7' 'odyssey' 'camaro' 'x5' 'm3' 'caliber' 'i35'\n",
      " 'journey' '5 series gran turismo' 'prius' 'regal' 'cooper countryman'\n",
      " 'jetta' 'avenger' 'cooper' 'camry hybrid' 'rodeo' 'f-250 super duty'\n",
      " 'rx 350' 'cruze' 'tsx' 'xj-series' 'savana cargo' 'mazda5' 'escalade'\n",
      " 'challenger' 'express cargo' 'r-class' 'm-class' 'c-class' 'tiburon'\n",
      " 'outlander' 'cr-v' 'xc90' 'legacy' 'sierra 1500' 'lacrosse' 'eclipse'\n",
      " 'rsx' 'es 350' 'sportage' 'avalanche' 'highlander' 'corvette'\n",
      " 'sonata hybrid' 'ranger' 'navigator' 'aveo' 'fiesta' 'trailblazer' 'cube'\n",
      " 'pilot' 'fortwo' 'galant' 'century' 'tucson' 'highlander hybrid' 'magnum'\n",
      " 'f-350 super duty' 'elantra touring' 'silverado 3500hd' 'uplander' 'cx-5'\n",
      " 'commander' 'compass' 'rogue select' 'c230wz' 'cts coupe' 'ls'\n",
      " 'outlander sport' 'terrain' 'mazda3' 'h3' '911' 'forester'\n",
      " 'impala limited' 'durango' 'land cruiser' 'xc' 'slk-class' 'insight'\n",
      " '6 series' 'cls-class' 'f150' 's-type' 'panamera' 'frontier' 'x3'\n",
      " 'enclave' 'range rover sport' 'sonic' 'crown victoria' 'rio' 'dart'\n",
      " 'e-series wagon' 'mazda6' 'dakota' 'pacifica' 'matrix' 'sebring' 'g5'\n",
      " '500' 'freestar' 'gs 350' 'm45' 'g35' 'cobalt' 'forenza'\n",
      " 'transit connect' 'vue' 'torrent' 'ion' 'neon' 'deville' '370z' 's-10'\n",
      " 'cx-7' 'lr4' 'a4' 'grand' 'econoline cargo' '1500' 'impreza' 'cadenza'\n",
      " 'f-450 super duty' 'camry solara' 'touareg' 'a7' 'ls 430' 'fit' 'dts'\n",
      " 'kizashi' 'prizm' 'santa fe' 'cavalier' 'lesabre' 'fx' 'cutlass ciera'\n",
      " 'tc' 'jetta sportwagen' 's-class' 'element' 'expedition el'\n",
      " 'elantra coupe' 'glk-class' 'fx35' 'yaris' 'x6' 'sequoia' 'astro'\n",
      " 'lx 570' 'acadia' 'cooper paceman' '4 series' 'fj cruiser' 'rl' 'volt'\n",
      " 'grand prix' '2500' 'sierra 2500hd' 'is 350' 'verano' 'santa' 'cx-9'\n",
      " 'tundra' 'yukon xl' 'tiguan' 'ram pickup 2500' 'spectra' 'lumina' 'xd'\n",
      " 'astra' 'silverado 1500 classic' 'mountaineer' 'quest' 'tribute'\n",
      " 'captiva sport' 'sonoma' 'sable' 'xj' 'leaf' 'continental gtc' 'titan'\n",
      " 'sierra 3500hd' 'xterra' 'range rover' 'venza' 'new beetle' 'escort'\n",
      " 'express' 'ct 200h' 'escalade esv' 'qx80' 'gti' 'qx' 'crosstour'\n",
      " 'cooper clubman' 'mazda2' 'es 330' 'lancer' 'genesis' 'grand vitara'\n",
      " 'outlook' 'nv cargo' 'caravan' 'xk-series' 'protege' 'jx' 'aura' 'vibe'\n",
      " 'f-type' 'grand am' 'cl' '300m' 'c-max hybrid' 'mirage' 'santa fe sport'\n",
      " 'qx56' 'sedona' 's40' 'juke' 'es 300h' 'xb' 'eclipse spyder' 'milan'\n",
      " 'm35' 'c-max energi' 'mariner' 'z4' 'malibu classic' 'cayenne' 'gs 300'\n",
      " 'sprinter' 'intrepid' 'town' 'ls 460' 'ilx' 'l-series' 'qx60' 's-series'\n",
      " 's4' 'i30' 'altima hybrid' 's80' '6' 'escape hybrid' 'monterey'\n",
      " 'genesis coupe' 'caprice' 'stratus' 'v70' 'tercel' 'fr-s' 'prius v'\n",
      " 'continental gt' 'sts' 'millenia' 'z3' 'accord crosstour' 'rainier'\n",
      " 'clk-class' 'elantra gt' 'endeavor' 'monte carlo' 'cougar' 'karma'\n",
      " 'rabbit' 'cc' 'ats' 'g-class' 'rx 450h' 'ram pickup 3500' 'boxster'\n",
      " 'azera' 'g37' 'c70' 'xv crosstrek' '3500' '350z' 'tt' 'zephyr'\n",
      " '3 series gran turismo' 'xl-7' 'xc60' 'sx4' 'ridgeline' '9-7x' 'bravada'\n",
      " 'xl7' 'mpv' '9-5' 'jimmy' 'rx 400h' 'escalade ext' 'versa note' 'ex35'\n",
      " 'a8' 'a5' 's7' 'b9 tribeca' 'crossfire' 'bonneville' 'grand marquis'\n",
      " 'shelby gt500' 'canyon' 'explorer sport' 'allroad quattro' 'aviator'\n",
      " '4 series gran coupe' 'taurus x' 'cl-class' 'rdx' 'continental' 'q5'\n",
      " 'alero' 'cayman' 'v40' 'g37 coupe' 'aurora' 'expeditn'\n",
      " 'beetle convertible' 'x1' 'm6' 'escalade hybrid' 'cla-class' 'solstice'\n",
      " 'is 300' 'eos' 'trailblazer ext' 'lancer sportback' 'xk' 'lx 470'\n",
      " 'malibu maxx' 'routan' 'es 300' 'gx' 'entourage' 'lancer evolution'\n",
      " 'x6 m' 'blazer' 'ascender' '750i' 'montero' 'sierra 1500 classic'\n",
      " 'cv tradesman' 's5' 'rondo' 'a3' 'ex' 'xts' 'quattroporte' 'prius c'\n",
      " 'tracker' 'granturismo' 'm5' 'mkt' 'corvette stingray' 'lhs' 'veracruz'\n",
      " 'impreza wrx' 'equus' 'm37' 'trooper' 'sunfire' 'elr' 'wrx'\n",
      " 'c/v cargo van' 'xc70' 'iq' '960' 'activehybrid x6' 'tribeca'\n",
      " 'montero sport' 'excursion' '6 series gran coupe' 'econoline wagon'\n",
      " 'sc 430' 'gx 470' 'fusion energi' '2 series' 'qx4' 'j30' 'freelander'\n",
      " 'silverado 3500' 'encore' 'gt-r' 'amanti' 'seville' '3' 'is 250 c'\n",
      " 'mustang svt cobra' 'silverado 2500hd classic' 'borrego' '300zx'\n",
      " 'integra' 'gs 450h' 'echo' 's90' 'sephia' 'classic' 'concorde' 'gs 460'\n",
      " 'q60 coupe' 'avalon hybrid' 'sky' 'lx' 'f-150 heritage' 'allroad'\n",
      " 'promaster cargo van' 'malibu hybrid' 'sprinter cargo' 'ram3500' 'police'\n",
      " 'model s' 'firebird' 'sc 400' 'hs 250h' 'xg350' 'cabrio' 'mazdaspeed 3'\n",
      " 'focus st' 'lr3' 'gs 400' 'gr' 'protege5' 'g8' 'l300' 'rs 7' 'aerio'\n",
      " 's70' 'gs 430' 'intrigue' 'x4' 'thunderbird' 'diamante' 'lr2' 'h2 sut'\n",
      " 'ssr' 'discovery series ii' 'envoy xuv' 'montana' 'i8' '626'\n",
      " 'cts-v coupe' 'e350' 'v60' 'sc 300' 'x-trail' 'xg300' 'qx70' 'celica'\n",
      " 'cooper coupe' 'silverado 1500hd' 'brz' 'prowler' 'zdx' 'cirrus'\n",
      " 'mazdaspeed mazda3' 'ridgelin' '750li' 'cutlass supreme' 'jetta hybrid'\n",
      " 'cts wagon' 'range rover evoque' 'is f' 'c30' 'cts-v' 'macan' 'r8'\n",
      " 'rc 350' 'cr-z' 'q70' 'continental flying spur' 'golf gti' 'spyder'\n",
      " '320i' 'b-series truck' 'v50' 'relay' 'e150' 'excurs' 'g37 convertible'\n",
      " 'e' 'montego' 'rlx' 'fx45' 'cayman s' 'activehybrid 7' 'c/k 3500 series'\n",
      " 'montana sv6' 'legend' 'eldorado' 'm6 gran coupe' 'mark viii'\n",
      " 'vue hybrid' 'voyager' 'yukon hybrid' 'q45' 'mariner hybrid'\n",
      " 'park avenue' 'passport' 'rs 6' 'prius plug-in' 'el' 'sr' 'golf r'\n",
      " 'mr2 spyder' 'g20' 'navigator l' 'astro cargo' 'transit van' '940' 'r32'\n",
      " 'discovery' 'murano crosscabriolet' 's2000' 'range' 'q60 convertible'\n",
      " 'gli' 'ls 400' 'k900' 'mark lt' 'mkc' 'qx50' 'silverado 2500' 'villager'\n",
      " 'ghost' 'tahoe hybrid' 'baja' 'c240w' 'viper' 'f430' 'm4' 'nv' 'ghibli'\n",
      " 'g3500' 'gto' 'crown' 'contour' '500-class' 'pickup' 'verona' 'cabriolet'\n",
      " 'mazdaspeed3' 'silhouette' 'marauder' 'terraza' 'sierra 2500hd classic'\n",
      " 'california' 'truck' 'jetta gli' 'aztek' 'vitara' 'touareg 2'\n",
      " 'sierra 3500' 'rx8' 'axiom' 'previa' 'c/k 1500 series' 'gallardo'\n",
      " 'catera' 'activehybrid 5' 'tts' 'mkz hybrid' 'g55' 'c/v tradesman' 'x5 m'\n",
      " 'coupe' 'sts-v' 'prelude' 'xlr' 'nv200' 'g3' 'is 350 c'\n",
      " 'tahoe limited/z71' 'twn/cntry' 'pt' 'savana' 'black diamond avalanche'\n",
      " 'tracer' 'gla-class' 'ram' '850' 'swift' 'h3t' '42c' 'rodeo sport' '500e'\n",
      " 'e-250' 's8' 'raider' '300-class' 'rs 4' 'continental gt speed'\n",
      " 'milan hybrid' 'tribute hybrid' 'cutlass' 'eighty-eight' 'e-150'\n",
      " 'blackwood' 'accord hybrid' 'i-miev' 'mazdaspeed mazda6' 'i-series'\n",
      " 'transit wagon' 'sierra 1500 hybrid' 'rc f' 'rangerover' 'safari cargo'\n",
      " 'comm' 'b-series pickup' 'phaeton' 'esteem' 'mazdaspeed protege'\n",
      " 'v8 vantage' 's10' 's6' 'sq5' 'ls 600h l' 'q3' 'cooper roadster' 'cl55'\n",
      " 'e250' 'f250' '3000gt' 'rs 5' 'safari' 's-10 blazer' 'g1500' 'alp'\n",
      " 'eighty-eight royale' 's55' '200sx' '750lxi' 'eurovan' 'rx-8' 'fx50'\n",
      " 'ram van' 'granturismo convertible' 'db9' 'nubira' 'windstar cargo'\n",
      " '420-class' 'roadmaster' 'ciera' 'b1500' 'f-150 svt lightning'\n",
      " 'b-class electric drive' 'mazdaspeed mx-5 miata' 'ram cargo'\n",
      " 'twn&country' 'aura hybrid' 'silverado 1500 hybrid' 'm56' 'sl55'\n",
      " 'carrera' 'f350' 'expedit' 'z4 m' 'nv passenger' 'yukon denali'\n",
      " 'sierra 1500hd' 'silverado 3500 classic' '8 series' '9-2x' 'regency'\n",
      " 'sierra 2500' 'g2500' 'tt rs' 'pathfind' 'tempo' 'civic del sol' 'siera'\n",
      " 'rr' 'b200' '400-class' 'ml55 amg' 'corsica' 'breeze'\n",
      " 'continental gtc speed' 'pursuit' 'optra' 'fleetwood' 'lx 450' 'subrbn'\n",
      " 'riviera' 'e-350' 'capt' 'sls amg' '190-class' '328i' '300e' 'ss' 'c230'\n",
      " 'rrs' 'mystique' 'wave' 'flying spur' '323i' 'uplandr' 'paseo' 'le baron'\n",
      " 'c/k 2500 series' 't100' '420sel' 'amigo' 'spark ev' 'aspire' '7' 'h1'\n",
      " 'b2300' 'spirit' 'rapide' 'equator' 'mountnr' 'b-series'\n",
      " 'continental flying spur speed' 'interstate' 'c240s' 'cts-v wagon'\n",
      " '458 italia' 'metro' 'continental supersports' 'f-250' 'gransport' 'g500']\n",
      "trim\n",
      "['sel' 'se' '2.0 sl' ... '2.5 x l.l.bean edition' '3500 high roof 140 wb'\n",
      " '4x4 v6 xlt sport']\n",
      "body\n",
      "['suv' 'sedan' 'wagon' 'unknown' 'minivan' 'extended cab' 'regular cab'\n",
      " 'coupe' 'supercrew' 'convertible' 'crew cab' 'supercab' 'hatchback'\n",
      " 'g coupe' 'g convertible' 'access cab' 'g sedan' 'e-series van'\n",
      " 'quad cab' 'tsx sport wagon' 'van' 'cts coupe' 'koup' 'king cab'\n",
      " 'double cab' 'elantra coupe' 'crewmax cab' 'genesis coupe' 'g37 coupe'\n",
      " 'club cab' 'beetle convertible' 'mega cab' 'regular-cab' 'xtracab'\n",
      " 'q60 coupe' 'promaster cargo van' 'cts-v coupe' 'cts wagon' 'cab plus 4'\n",
      " 'g37 convertible' 'transit van' 'q60 convertible' 'cab plus' 'ram van'\n",
      " 'granturismo convertible' 'cts-v wagon']\n",
      "transmission\n",
      "['automatic' 'manual' 'unknown']\n",
      "vin\n",
      "['2fmdk3jc4bba41556' '3fa6p0h75er208976' '3n1ab6ap4cl698412' ...\n",
      " 'wbaea53588cv90110' '3c6ur5dl2eg243568' 'jn8as5mt9dw038107']\n",
      "state\n",
      "['md' 'mo' 'nj' 'tx' 'mi' 'nc' 'fl' 'oh' 'ca' 'az' 'ga' 'tn' 'in' 'pa'\n",
      " 'va' 'wi' 'co' 'ny' 'il' 'nv' 'mn' 'wa' 'sc' 'la' 'ne' 'ok' 'or' 'on'\n",
      " 'ma' 'ab' 'pr' 'hi' 'ut' 'qc' 'ms' 'nm' 'ns' 'al']\n",
      "color\n",
      "['black' 'gold' 'silver' 'blue' 'white' 'gray' '—' 'red' 'brown' 'green'\n",
      " 'beige' 'orange' nan 'off-white' 'burgundy' 'yellow' 'charcoal' 'purple'\n",
      " 'turquoise' 'lime' 'pink']\n",
      "interior\n",
      "['black' 'beige' 'gray' 'tan' 'brown' '—' 'off-white' nan 'blue' 'white'\n",
      " 'silver' 'red' 'green' 'gold' 'purple' 'orange' 'burgundy' 'yellow']\n",
      "seller\n",
      "['santander consumer' 'ars/avis budget group' 'nissan-infiniti lt' ...\n",
      " 'autostar enterprises' 'kocourek nissan' 'studio city auto group']\n"
     ]
    }
   ],
   "source": [
    "for item in object_cols:\n",
    "    if train_df[item].dtype == 'object':\n",
    "        print(item)\n",
    "        print(train_df[item].unique())"
   ]
  },
  {
   "cell_type": "code",
   "execution_count": 302,
   "metadata": {},
   "outputs": [],
   "source": [
    "train_df['transmission'] = train_df['transmission'].replace('unknown', train_df['transmission'].mode()[0])\n",
    "test_x['transmission'] = test_x['transmission'].replace('unknown', test_x['transmission'].mode()[0])\n"
   ]
  },
  {
   "cell_type": "code",
   "execution_count": null,
   "metadata": {},
   "outputs": [
    {
     "data": {
      "text/plain": [
       "['condition', 'odometer', 'color', 'interior']"
      ]
     },
     "execution_count": 264,
     "metadata": {},
     "output_type": "execute_result"
    }
   ],
   "source": [
    "train_df.columns[train_df.isna().any()].tolist()"
   ]
  },
  {
   "cell_type": "code",
   "execution_count": 296,
   "metadata": {},
   "outputs": [
    {
     "data": {
      "text/plain": [
       "['condition', 'odometer', 'color', 'interior']"
      ]
     },
     "execution_count": 296,
     "metadata": {},
     "output_type": "execute_result"
    }
   ],
   "source": [
    "test_x.columns[test_x.isna().any()].tolist()"
   ]
  },
  {
   "cell_type": "code",
   "execution_count": null,
   "metadata": {},
   "outputs": [
    {
     "data": {
      "text/html": [
       "<div>\n",
       "<style scoped>\n",
       "    .dataframe tbody tr th:only-of-type {\n",
       "        vertical-align: middle;\n",
       "    }\n",
       "\n",
       "    .dataframe tbody tr th {\n",
       "        vertical-align: top;\n",
       "    }\n",
       "\n",
       "    .dataframe thead th {\n",
       "        text-align: right;\n",
       "    }\n",
       "</style>\n",
       "<table border=\"1\" class=\"dataframe\">\n",
       "  <thead>\n",
       "    <tr style=\"text-align: right;\">\n",
       "      <th></th>\n",
       "      <th>year</th>\n",
       "      <th>make</th>\n",
       "      <th>vin</th>\n",
       "      <th>state</th>\n",
       "      <th>condition</th>\n",
       "      <th>odometer</th>\n",
       "      <th>color</th>\n",
       "      <th>interior</th>\n",
       "      <th>seller</th>\n",
       "      <th>saledate</th>\n",
       "      <th>body</th>\n",
       "      <th>trim</th>\n",
       "      <th>model</th>\n",
       "      <th>transmission</th>\n",
       "    </tr>\n",
       "  </thead>\n",
       "  <tbody>\n",
       "  </tbody>\n",
       "</table>\n",
       "</div>"
      ],
      "text/plain": [
       "Empty DataFrame\n",
       "Columns: [year, make, vin, state, condition, odometer, color, interior, seller, saledate, body, trim, model, transmission]\n",
       "Index: []"
      ]
     },
     "execution_count": 266,
     "metadata": {},
     "output_type": "execute_result"
    }
   ],
   "source": [
    "train_df.loc[train_df['make'].isna()].head()"
   ]
  },
  {
   "cell_type": "code",
   "execution_count": null,
   "metadata": {},
   "outputs": [
    {
     "data": {
      "text/html": [
       "<div>\n",
       "<style scoped>\n",
       "    .dataframe tbody tr th:only-of-type {\n",
       "        vertical-align: middle;\n",
       "    }\n",
       "\n",
       "    .dataframe tbody tr th {\n",
       "        vertical-align: top;\n",
       "    }\n",
       "\n",
       "    .dataframe thead th {\n",
       "        text-align: right;\n",
       "    }\n",
       "</style>\n",
       "<table border=\"1\" class=\"dataframe\">\n",
       "  <thead>\n",
       "    <tr style=\"text-align: right;\">\n",
       "      <th></th>\n",
       "      <th>year</th>\n",
       "      <th>make</th>\n",
       "      <th>vin</th>\n",
       "      <th>state</th>\n",
       "      <th>condition</th>\n",
       "      <th>odometer</th>\n",
       "      <th>color</th>\n",
       "      <th>interior</th>\n",
       "      <th>seller</th>\n",
       "      <th>saledate</th>\n",
       "      <th>body</th>\n",
       "      <th>trim</th>\n",
       "      <th>model</th>\n",
       "      <th>transmission</th>\n",
       "    </tr>\n",
       "  </thead>\n",
       "  <tbody>\n",
       "  </tbody>\n",
       "</table>\n",
       "</div>"
      ],
      "text/plain": [
       "Empty DataFrame\n",
       "Columns: [year, make, vin, state, condition, odometer, color, interior, seller, saledate, body, trim, model, transmission]\n",
       "Index: []"
      ]
     },
     "execution_count": 267,
     "metadata": {},
     "output_type": "execute_result"
    }
   ],
   "source": [
    "test_x.loc[test_x['make'].isna()]\n"
   ]
  },
  {
   "cell_type": "code",
   "execution_count": null,
   "metadata": {},
   "outputs": [],
   "source": []
  },
  {
   "cell_type": "code",
   "execution_count": null,
   "metadata": {},
   "outputs": [],
   "source": []
  },
  {
   "cell_type": "code",
   "execution_count": null,
   "metadata": {},
   "outputs": [],
   "source": []
  },
  {
   "cell_type": "code",
   "execution_count": null,
   "metadata": {},
   "outputs": [
    {
     "data": {
      "text/plain": [
       "True"
      ]
     },
     "execution_count": 268,
     "metadata": {},
     "output_type": "execute_result"
    }
   ],
   "source": [
    "vin.verify_checksum()"
   ]
  },
  {
   "attachments": {},
   "cell_type": "markdown",
   "metadata": {},
   "source": [
    "## Работа с датой"
   ]
  },
  {
   "attachments": {},
   "cell_type": "markdown",
   "metadata": {},
   "source": [
    "## Работа с пропусками"
   ]
  },
  {
   "attachments": {},
   "cell_type": "markdown",
   "metadata": {},
   "source": [
    "## Работа с дубликатами"
   ]
  },
  {
   "attachments": {},
   "cell_type": "markdown",
   "metadata": {},
   "source": [
    "## Работа с выбросами"
   ]
  }
 ],
 "metadata": {
  "kernelspec": {
   "display_name": "base",
   "language": "python",
   "name": "python3"
  },
  "language_info": {
   "codemirror_mode": {
    "name": "ipython",
    "version": 3
   },
   "file_extension": ".py",
   "mimetype": "text/x-python",
   "name": "python",
   "nbconvert_exporter": "python",
   "pygments_lexer": "ipython3",
   "version": "3.9.13"
  },
  "orig_nbformat": 4
 },
 "nbformat": 4,
 "nbformat_minor": 2
}
